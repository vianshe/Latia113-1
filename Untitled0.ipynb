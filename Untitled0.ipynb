{
  "nbformat": 4,
  "nbformat_minor": 0,
  "metadata": {
    "colab": {
      "provenance": []
    },
    "kernelspec": {
      "name": "python3",
      "display_name": "Python 3"
    },
    "language_info": {
      "name": "python"
    }
  },
  "cells": [
    {
      "cell_type": "code",
      "source": [
        "允許使用者輸入加總的開始值、結束值與遞增值，計算數值加總的結果"
      ],
      "metadata": {
        "id": "YNSP3VDChVCa"
      },
      "execution_count": null,
      "outputs": []
    },
    {
      "cell_type": "code",
      "source": [
        "s = int(input('請輸入加總開始值？'))\n",
        "\n",
        "e = int(input('請輸入加總終止值？'))\n",
        "\n",
        "inc = int(input('請輸入遞增減值？'))\n",
        "\n",
        "sum = 0\n",
        "\n",
        "for i in range(s, e, inc):\n",
        "\n",
        "        sum = sum + i\n",
        "\n",
        "        print('i為', i, '加總結果為', sum)"
      ],
      "metadata": {
        "colab": {
          "base_uri": "https://localhost:8080/"
        },
        "id": "Jed18jDRqc-e",
        "outputId": "6f5d19f9-505d-4264-8e06-eaa2bda24b3a"
      },
      "execution_count": 28,
      "outputs": [
        {
          "output_type": "stream",
          "name": "stdout",
          "text": [
            "請輸入加總開始值？1\n",
            "請輸入加總終止值？10\n",
            "請輸入遞增減值？2\n",
            "i為 1 加總結果為 1\n",
            "i為 3 加總結果為 4\n",
            "i為 5 加總結果為 9\n",
            "i為 7 加總結果為 16\n",
            "i為 9 加總結果為 25\n"
          ]
        }
      ]
    }
  ]
}