{
  "nbformat": 4,
  "nbformat_minor": 0,
  "metadata": {
    "colab": {
      "provenance": []
    },
    "kernelspec": {
      "name": "python3",
      "display_name": "Python 3"
    },
    "language_info": {
      "name": "python"
    }
  },
  "cells": [
    {
      "cell_type": "code",
      "execution_count": 1,
      "metadata": {
        "colab": {
          "base_uri": "https://localhost:8080/"
        },
        "id": "SKMWpCfV6G8N",
        "outputId": "a192bbf4-e5fd-44c8-bf78-f7c8d20dcb14"
      },
      "outputs": [
        {
          "metadata": {
            "tags": null
          },
          "name": "stdout",
          "output_type": "stream",
          "text": [
            "                            OLS Regression Results                            \n",
            "==============================================================================\n",
            "Dep. Variable:                      B   R-squared:                       0.002\n",
            "Model:                            OLS   Adj. R-squared:                 -0.008\n",
            "Method:                 Least Squares   F-statistic:                    0.2357\n",
            "Date:                Thu, 07 Nov 2024   Prob (F-statistic):              0.628\n",
            "Time:                        09:16:39   Log-Likelihood:                -145.05\n",
            "No. Observations:                 100   AIC:                             294.1\n",
            "Df Residuals:                      98   BIC:                             299.3\n",
            "Df Model:                           1                                         \n",
            "Covariance Type:            nonrobust                                         \n",
            "==============================================================================\n",
            "                 coef    std err          t      P>|t|      [0.025      0.975]\n",
            "------------------------------------------------------------------------------\n",
            "const          0.1622      0.105      1.549      0.125      -0.046       0.370\n",
            "A             -0.0575      0.118     -0.486      0.628      -0.292       0.177\n",
            "==============================================================================\n",
            "Omnibus:                        3.335   Durbin-Watson:                   1.774\n",
            "Prob(Omnibus):                  0.189   Jarque-Bera (JB):                2.092\n",
            "Skew:                          -0.122   Prob(JB):                        0.351\n",
            "Kurtosis:                       2.335   Cond. No.                         1.16\n",
            "==============================================================================\n",
            "\n",
            "Notes:\n",
            "[1] Standard Errors assume that the covariance matrix of the errors is correctly specified.\n"
          ]
        }
      ],
      "source": [
        "import pandas as pd\n",
        "import statsmodels.api as sm\n",
        "import numpy as np\n",
        "df2 = pd.DataFrame(np.random.randn(100, 4), columns=list(\"ABCD\"))\n",
        "X = df2['A']\n",
        "y = df2['B']\n",
        "# Add a constant to the model (for the intercept term)\n",
        "X = sm.add_constant(X)\n",
        "X\n",
        "# Fit the regression model\n",
        "model = sm.OLS(y, X).fit()\n",
        "# Display the regression results\n",
        "print(model.summary())"
      ]
    },
    {
      "cell_type": "code",
      "source": [
        "import pandas as pd\n",
        "import statsmodels.api as sm\n",
        "import numpy as np\n",
        "\n",
        "df2 = pd.DataFrame(np.random.randn(100, 4), columns=list(\"ABCD\"))\n",
        "\n",
        "X = df2[['A', 'B', 'C']]  # 使用A, B, C作為解釋變數\n",
        "y = df2['D']  # 使用D作為應變數\n",
        "\n",
        "X = sm.add_constant(X)\n",
        "\n",
        "model = sm.OLS(y, X).fit()\n",
        "\n",
        "print(model.summary())"
      ],
      "metadata": {
        "colab": {
          "base_uri": "https://localhost:8080/"
        },
        "id": "xhSEd8Xy7Aze",
        "outputId": "0c7563bd-39dd-4ad9-b7a6-92a990640f16"
      },
      "execution_count": 2,
      "outputs": [
        {
          "output_type": "stream",
          "name": "stdout",
          "text": [
            "                            OLS Regression Results                            \n",
            "==============================================================================\n",
            "Dep. Variable:                      D   R-squared:                       0.037\n",
            "Model:                            OLS   Adj. R-squared:                  0.007\n",
            "Method:                 Least Squares   F-statistic:                     1.230\n",
            "Date:                Thu, 07 Nov 2024   Prob (F-statistic):              0.303\n",
            "Time:                        09:20:03   Log-Likelihood:                -150.13\n",
            "No. Observations:                 100   AIC:                             308.3\n",
            "Df Residuals:                      96   BIC:                             318.7\n",
            "Df Model:                           3                                         \n",
            "Covariance Type:            nonrobust                                         \n",
            "==============================================================================\n",
            "                 coef    std err          t      P>|t|      [0.025      0.975]\n",
            "------------------------------------------------------------------------------\n",
            "const          0.1234      0.112      1.106      0.271      -0.098       0.345\n",
            "A             -0.1489      0.135     -1.106      0.272      -0.416       0.118\n",
            "B             -0.1460      0.115     -1.270      0.207      -0.374       0.082\n",
            "C              0.1230      0.122      1.007      0.316      -0.119       0.366\n",
            "==============================================================================\n",
            "Omnibus:                        2.056   Durbin-Watson:                   1.901\n",
            "Prob(Omnibus):                  0.358   Jarque-Bera (JB):                1.464\n",
            "Skew:                          -0.229   Prob(JB):                        0.481\n",
            "Kurtosis:                       3.377   Cond. No.                         1.38\n",
            "==============================================================================\n",
            "\n",
            "Notes:\n",
            "[1] Standard Errors assume that the covariance matrix of the errors is correctly specified.\n"
          ]
        }
      ]
    }
  ]
}