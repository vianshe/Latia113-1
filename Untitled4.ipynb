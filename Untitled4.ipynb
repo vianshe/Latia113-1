{
  "nbformat": 4,
  "nbformat_minor": 0,
  "metadata": {
    "colab": {
      "provenance": []
    },
    "kernelspec": {
      "name": "python3",
      "display_name": "Python 3"
    },
    "language_info": {
      "name": "python"
    }
  },
  "cells": [
    {
      "cell_type": "code",
      "execution_count": null,
      "metadata": {
        "id": "ILII3oA2p9Rx"
      },
      "outputs": [],
      "source": [
        "import matplotlib.pyplot as plt\n",
        "import seaborn as sns\n",
        "import pandas as pd\n",
        "import numpy as np\n",
        "\n",
        "# 模擬數據\n",
        "data = {\n",
        "    'Subject': ['Math', 'Science', 'Language', 'Social Studies'],\n",
        "    'Easy': [40, 50, 70, 30],\n",
        "    'Medium': [30, 35, 20, 50],\n",
        "    'Hard': [30, 15, 10, 20]\n",
        "}\n",
        "\n",
        "# 數據轉換為DataFrame\n",
        "df = pd.DataFrame(data)\n",
        "\n",
        "# 繪製條形圖 - 不同學科的任務難度分佈\n",
        "df.set_index('Subject').plot(kind='bar', stacked=True, figsize=(8, 6))\n",
        "plt.title('Task Difficulty Distribution by Subject')\n",
        "plt.xlabel('Subjects')\n",
        "plt.ylabel('Number of Tasks')\n",
        "plt.legend(title='Difficulty')\n",
        "plt.show()\n",
        "\n",
        "# 模擬每日完成任務數據\n",
        "days = pd.date_range(start=\"2024-01-01\", periods=30)\n",
        "daily_tasks = np.random.poisson(lam=50, size=30)  # 平均每天50個任務\n",
        "plt.figure(figsize=(10, 6))\n",
        "plt.plot(days, daily_tasks, marker='o')\n",
        "plt.title('Daily Task Completion Trend')\n",
        "plt.xlabel('Date')\n",
        "plt.ylabel('Number of Tasks Completed')\n",
        "plt.grid(True)\n",
        "plt.show()\n",
        "\n",
        "# 繪製餅圖 - 任務難度佔比\n",
        "total_tasks = df[['Easy', 'Medium', 'Hard']].sum()\n",
        "plt.figure(figsize=(6, 6))\n",
        "plt.pie(total_tasks, labels=['Easy', 'Medium', 'Hard'], autopct='%1.1f%%', startangle=140)\n",
        "plt.title('Overall Task Difficulty Proportion')\n",
        "plt.show()"
      ]
    }
  ]
}